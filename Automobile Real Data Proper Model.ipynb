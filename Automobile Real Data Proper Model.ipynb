{
 "cells": [
  {
   "cell_type": "code",
   "execution_count": 1,
   "metadata": {},
   "outputs": [],
   "source": [
    "import numpy as np\n",
    "import matplotlib.pyplot as plt\n",
    "import pandas as pd"
   ]
  },
  {
   "cell_type": "code",
   "execution_count": 2,
   "metadata": {},
   "outputs": [],
   "source": [
    "missing_values = ['?', ' ?', '? ']\n",
    "dataset = pd.read_csv('automobile.csv', na_values = missing_values, header = None)\n",
    "dataset.dropna(inplace = True)"
   ]
  },
  {
   "cell_type": "code",
   "execution_count": 3,
   "metadata": {},
   "outputs": [],
   "source": [
    "x = dataset.iloc[:, :-1].values\n",
    "y = dataset.iloc[:, -1].values"
   ]
  },
  {
   "cell_type": "code",
   "execution_count": 4,
   "metadata": {},
   "outputs": [],
   "source": [
    "from sklearn.compose import ColumnTransformer\n",
    "from sklearn.preprocessing import OneHotEncoder\n",
    "ct = ColumnTransformer(transformers = [('encoder', OneHotEncoder(), [2,3,4,5,6,7,8,14,15,17])], remainder = 'passthrough')\n",
    "x = np.array(ct.fit_transform(x))"
   ]
  },
  {
   "cell_type": "code",
   "execution_count": 5,
   "metadata": {},
   "outputs": [
    {
     "data": {
      "image/png": "[encoded data removed]",
      "text/plain": [
       "<Figure size 432x288 with 1 Axes>"
      ]
     },
     "metadata": {
      "needs_background": "light"
     },
     "output_type": "display_data"
    }
   ],
   "source": [
    "#feature selection\n",
    "from sklearn.feature_selection import mutual_info_regression\n",
    "%matplotlib inline\n",
    "importances = mutual_info_regression(x, y)\n",
    "df = pd.DataFrame(x)\n",
    "feat_importances = pd.Series(importances, df.columns[0: len(df.columns)])\n",
    "feat_importances.plot(kind = 'barh', color = 'teal')\n",
    "plt.show()"
   ]
  },
  {
   "cell_type": "code",
   "execution_count": 6,
   "metadata": {},
   "outputs": [],
   "source": [
    "from sklearn.model_selection import train_test_split\n",
    "x_train, x_test, y_train, y_test = train_test_split(x, y, test_size = 0.2, random_state = 42)"
   ]
  },
  {
   "cell_type": "code",
   "execution_count": 7,
   "metadata": {},
   "outputs": [],
   "source": [
    "from sklearn.preprocessing import StandardScaler\n",
    "sc = StandardScaler()\n",
    "x_train[:, 49: ] = sc.fit_transform(x_train[:, 49: ])\n",
    "x_test[:, 49: ] = sc.transform(x_test[:, 49: ])"
   ]
  },
  {
   "cell_type": "code",
   "execution_count": 8,
   "metadata": {},
   "outputs": [],
   "source": [
    "from mlxtend.feature_selection import SequentialFeatureSelector\n",
    "from sklearn.ensemble import RandomForestRegressor\n",
    "regressor = RandomForestRegressor(n_estimators = 10)\n",
    "ffs = SequentialFeatureSelector(regressor, k_features = 'best', forward = True, n_jobs = -1)\n",
    "ffs.fit(x, y)\n",
    "features = list(ffs.k_feature_names_)\n",
    "features = list(map(int, features))"
   ]
  },
  {
   "cell_type": "code",
   "execution_count": 9,
   "metadata": {},
   "outputs": [
    {
     "data": {
      "image/png": "[encoded data removed]",
      "text/plain": [
       "<Figure size 432x288 with 1 Axes>"
      ]
     },
     "metadata": {
      "needs_background": "light"
     },
     "output_type": "display_data"
    }
   ],
   "source": [
    "#feature selection\n",
    "x_train = x_train[:, features]\n",
    "x_test = x_test[:, features]\n",
    "from sklearn.feature_selection import mutual_info_regression\n",
    "%matplotlib inline\n",
    "importances = mutual_info_regression(x_train, y_train)\n",
    "df = pd.DataFrame(x_train)\n",
    "feat_importances = pd.Series(importances, df.columns[0: len(df.columns)])\n",
    "feat_importances.plot(kind = 'barh', color = 'teal')\n",
    "plt.show()"
   ]
  },
  {
   "cell_type": "raw",
   "metadata": {},
   "source": [
    "from sklearn.decomposition import KernelPCA\n",
    "kpca = KernelPCA(n_components = 8, kernel = 'rbf')\n",
    "x_train = kpca.fit_transform(x_train)\n",
    "x_test = kpca.transform(x_test)"
   ]
  },
  {
   "cell_type": "raw",
   "metadata": {},
   "source": [
    "#feature selection\n",
    "from sklearn.feature_selection import mutual_info_classif\n",
    "%matplotlib inline\n",
    "importances = mutual_info_classif(x_train, y_train)\n",
    "df = pd.DataFrame(x_train)\n",
    "feat_importances = pd.Series(importances, df.columns[0: len(df.columns)])\n",
    "feat_importances.plot(kind = 'barh', color = 'teal')\n",
    "plt.show()"
   ]
  },
  {
   "cell_type": "code",
   "execution_count": 10,
   "metadata": {},
   "outputs": [
    {
     "data": {
      "text/plain": [
       "RandomForestRegressor(n_estimators=10)"
      ]
     },
     "execution_count": 10,
     "metadata": {},
     "output_type": "execute_result"
    }
   ],
   "source": [
    "regressor.fit(x_train, y_train)"
   ]
  },
  {
   "cell_type": "code",
   "execution_count": 11,
   "metadata": {},
   "outputs": [
    {
     "name": "stdout",
     "output_type": "stream",
     "text": [
      "[[16802.         13200.        ]\n",
      " [18859.23333333 19045.        ]\n",
      " [13473.3         9989.        ]\n",
      " [ 8529.5         6989.        ]\n",
      " [12457.         15510.        ]\n",
      " [ 8950.6        10295.        ]\n",
      " [ 7589.09285714  9980.        ]\n",
      " [ 5780.26666667  6669.        ]\n",
      " [ 7124.4         7053.        ]\n",
      " [ 8303.8         7975.        ]\n",
      " [ 5408.8         6479.        ]\n",
      " [ 6952.71666667  7099.        ]\n",
      " [ 6097.6         6692.        ]\n",
      " [ 6640.65        7799.        ]\n",
      " [ 7618.14285714  7295.        ]\n",
      " [11339.1        12945.        ]\n",
      " [10828.4         8449.        ]\n",
      " [ 8178.1         7775.        ]\n",
      " [14808.95       18620.        ]\n",
      " [ 6097.6         7609.        ]\n",
      " [15078.55       16515.        ]\n",
      " [13965.9        12964.        ]\n",
      " [ 5615.3         6377.        ]\n",
      " [ 6278.3         6295.        ]\n",
      " [ 9441.7        10345.        ]\n",
      " [ 9045.2         9538.        ]\n",
      " [15153.7        18150.        ]\n",
      " [ 8529.5         8189.        ]\n",
      " [ 7981.27857143  9495.        ]\n",
      " [17642.31666667 18420.        ]\n",
      " [10114.         10898.        ]\n",
      " [17631.1        18399.        ]]\n"
     ]
    }
   ],
   "source": [
    "y_pred = regressor.predict(x_test)\n",
    "np.set_printoptions(suppress=True)\n",
    "print(np.concatenate((y_pred.reshape(len(y_pred),1), y_test.reshape(len(y_test),1)),1))"
   ]
  },
  {
   "cell_type": "code",
   "execution_count": 12,
   "metadata": {},
   "outputs": [
    {
     "data": {
      "text/plain": [
       "0.8211298479191337"
      ]
     },
     "execution_count": 12,
     "metadata": {},
     "output_type": "execute_result"
    }
   ],
   "source": [
    "from sklearn.metrics import r2_score\n",
    "r2_score(y_pred, y_test)"
   ]
  },
  {
   "cell_type": "code",
   "execution_count": 13,
   "metadata": {},
   "outputs": [
    {
     "name": "stdout",
     "output_type": "stream",
     "text": [
      "Accuracy: 86.50 %\n",
      "Standard Deviation: 6.76 %\n"
     ]
    }
   ],
   "source": [
    "from sklearn.model_selection import cross_val_score\n",
    "accuracies = cross_val_score(estimator = regressor, X = x_train, y = y_train, cv = 10)\n",
    "print(\"Accuracy: {:.2f} %\".format(accuracies.mean()*100))\n",
    "print(\"Standard Deviation: {:.2f} %\".format(accuracies.std()*100))"
   ]
  },
  {
   "cell_type": "raw",
   "metadata": {},
   "source": [
    "from sklearn.model_selection import GridSearchCV\n",
    "parameters = {'n_estimators':[10,30,50,70,80,100], 'max_features': ['auto','log2']}\n",
    "grid_search = GridSearchCV(estimator = regressor, param_grid = parameters, cv = 10, n_jobs = -1)\n",
    "grid_search.fit(x_train, y_train)\n",
    "best_accuracy = grid_search.best_score_\n",
    "best_parameters = grid_search.best_params_\n",
    "print(\"Best Accuracy: {:.2f} %\".format(best_accuracy*100))\n",
    "print(\"Best Parameters:\", best_parameters)"
   ]
  }
 ],
 "metadata": {
  "kernelspec": {
   "display_name": "Python 3",
   "language": "python",
   "name": "python3"
  },
  "language_info": {
   "codemirror_mode": {
    "name": "ipython",
    "version": 3
   },
   "file_extension": ".py",
   "mimetype": "text/x-python",
   "name": "python",
   "nbconvert_exporter": "python",
   "pygments_lexer": "ipython3",
   "version": "3.8.5"
  }
 },
 "nbformat": 4,
 "nbformat_minor": 4
}
